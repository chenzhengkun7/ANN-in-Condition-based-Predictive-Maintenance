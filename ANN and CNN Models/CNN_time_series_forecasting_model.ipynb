{
  "nbformat": 4,
  "nbformat_minor": 0,
  "metadata": {
    "colab": {
      "name": "CNN_time-series forecasting model.ipynb",
      "provenance": [],
      "collapsed_sections": [],
      "toc_visible": true
    },
    "kernelspec": {
      "name": "python3",
      "display_name": "Python 3"
    },
    "accelerator": "GPU"
  },
  "cells": [
    {
      "cell_type": "markdown",
      "metadata": {
        "id": "4f-ixfapj6sW",
        "colab_type": "text"
      },
      "source": [
        "# Import Library"
      ]
    },
    {
      "cell_type": "code",
      "metadata": {
        "id": "Gmf4ACZkpz54",
        "colab_type": "code",
        "colab": {}
      },
      "source": [
        "## Import library\n",
        "import pandas as pd\n",
        "import numpy as np\n",
        "%matplotlib inline\n",
        "import matplotlib.pyplot as plt\n",
        "import time\n",
        "\n",
        "import keras\n",
        "from keras.models import Sequential\n",
        "from keras.layers import Dense\n",
        "from keras.layers import Flatten\n",
        "from keras.layers.convolutional import Conv1D\n",
        "from keras.layers.convolutional import MaxPooling1D\n",
        "from keras.callbacks import ModelCheckpoint\n",
        "from keras.optimizers import Adam, SGD"
      ],
      "execution_count": null,
      "outputs": []
    },
    {
      "cell_type": "markdown",
      "metadata": {
        "id": "ntTuhnrlKQ-4",
        "colab_type": "text"
      },
      "source": [
        "# Read dataset"
      ]
    },
    {
      "cell_type": "code",
      "metadata": {
        "id": "N-IPcy_f1iF3",
        "colab_type": "code",
        "colab": {}
      },
      "source": [
        "# Data = pd.read_csv('data_plot02.csv',',')\n",
        "\n",
        "# data is split into three sets: \n",
        "# training dataset (700 samples,70%), validating dataset (150 samples, 15%),\n",
        "# testing dataset (150 samples, 15%)\n",
        "X_train = pd.read_csv('X_train_6_02.csv',',',names=['X1','X2','X3','X4','X5','X6','Y1','Y2','Y3','Y4','Y5','Y6','Z1','Z2','Z3','Z4','Z5','Z6'])\n",
        "y_train = pd.read_csv('y_train_6_02.csv',',',names=['X1','X2','X3','X4','X5','X6','Y1','Y2','Y3','Y4','Y5','Y6','Z1','Z2','Z3','Z4','Z5','Z6'])\n",
        "X_vali = pd.read_csv('X_vali_6_02.csv',',',names=['X1','X2','X3','X4','X5','X6','Y1','Y2','Y3','Y4','Y5','Y6','Z1','Z2','Z3','Z4','Z5','Z6'])\n",
        "y_vali = pd.read_csv('y_vali_6_02.csv',',',names=['X1','X2','X3','X4','X5','X6','Y1','Y2','Y3','Y4','Y5','Y6','Z1','Z2','Z3','Z4','Z5','Z6'])\n",
        "X_test = pd.read_csv('X_test_6_02.csv',',',names=['X1','X2','X3','X4','X5','X6','Y1','Y2','Y3','Y4','Y5','Y6','Z1','Z2','Z3','Z4','Z5','Z6'])\n",
        "y_test = pd.read_csv('y_test_6_02.csv',',',names=['X1','X2','X3','X4','X5','X6','Y1','Y2','Y3','Y4','Y5','Y6','Z1','Z2','Z3','Z4','Z5','Z6'])"
      ],
      "execution_count": null,
      "outputs": []
    },
    {
      "cell_type": "code",
      "metadata": {
        "id": "JJhAQ28_ICV3",
        "colab_type": "code",
        "colab": {}
      },
      "source": [
        "# Data = pd.read_csv('data_plot02.csv',',')\n",
        "# X_train = pd.read_csv('X_train_12_02.csv',',')\n",
        "# y_train = pd.read_csv('y_train_12_02.csv',',')\n",
        "# X_vali = pd.read_csv('X_vali_12_02.csv',',')\n",
        "# y_vali = pd.read_csv('y_vali_12_02.csv',',')\n",
        "# X_test = pd.read_csv('X_test_12_02.csv',',')\n",
        "# y_test = pd.read_csv('y_test_12_02.csv',',')"
      ],
      "execution_count": null,
      "outputs": []
    },
    {
      "cell_type": "code",
      "metadata": {
        "id": "66F3NfNcINeM",
        "colab_type": "code",
        "colab": {}
      },
      "source": [
        "# X_train = pd.read_csv('X_train_24_02.csv',',')\n",
        "# y_train = pd.read_csv('y_train_24_02.csv',',')\n",
        "# X_vali = pd.read_csv('X_vali_24_02.csv',',')\n",
        "# y_vali = pd.read_csv('y_vali_24_02.csv',',')\n",
        "# X_test = pd.read_csv('X_test_24_02.csv',',')\n",
        "# y_test = pd.read_csv('y_test_24_02.csv',',')"
      ],
      "execution_count": null,
      "outputs": []
    },
    {
      "cell_type": "code",
      "metadata": {
        "id": "rCALP-Z1IQyr",
        "colab_type": "code",
        "colab": {}
      },
      "source": [
        "# X_train = pd.read_csv('X_train_48_02.csv',',')\n",
        "# y_train = pd.read_csv('y_train_48_02.csv',',')\n",
        "# X_vali = pd.read_csv('X_vali_48_02.csv',',')\n",
        "# y_vali = pd.read_csv('y_vali_48_02.csv',',')\n",
        "# X_test = pd.read_csv('X_test_48_02.csv',',')\n",
        "# y_test = pd.read_csv('y_test_48_02.csv',',')"
      ],
      "execution_count": null,
      "outputs": []
    },
    {
      "cell_type": "code",
      "metadata": {
        "id": "TZpvqdUKg4vV",
        "colab_type": "code",
        "colab": {}
      },
      "source": [
        "# plt.figure(figsize=(15,10))\n",
        "# plt.xticks(fontsize=15)\n",
        "# plt.yticks(fontsize=15)\n",
        "# plt.plot(Data['X'],label='X axis')\n",
        "# plt.plot(Data['Y'],label='Y axis')\n",
        "# plt.plot(Data['Z'],label='Z axis')\n",
        "# plt.title(\"True data\",fontsize=15)\n",
        "# plt.xlabel('Observation',fontsize=15)\n",
        "# plt.ylabel('Speed (mm/s)',fontsize=15)\n",
        "# plt.legend(fontsize=15)\n",
        "# plt.show()"
      ],
      "execution_count": null,
      "outputs": []
    },
    {
      "cell_type": "markdown",
      "metadata": {
        "id": "M7HPWOEj_oYc",
        "colab_type": "text"
      },
      "source": [
        "# Build Model"
      ]
    },
    {
      "cell_type": "code",
      "metadata": {
        "id": "IVEE6UTPf22l",
        "colab_type": "code",
        "colab": {}
      },
      "source": [
        "## convert data from dataframe to array and reshape the input\n",
        "\n",
        "# convert data from dataframe to array\n",
        "X_train = X_train.to_numpy()\n",
        "y_train = y_train.to_numpy()\n",
        "X_vali = X_vali.to_numpy()\n",
        "y_vali = y_vali.to_numpy()\n",
        "X_test = X_test.to_numpy()\n",
        "y_test = y_test.to_numpy()\n",
        "\n",
        "#  reshape the input\n",
        "X_train = X_train.reshape(X_train.shape[0],X_train.shape[1],1)\n",
        "X_vali = X_vali.reshape(X_vali.shape[0],X_vali.shape[1],1)\n",
        "X_test = X_test.reshape(X_test.shape[0],X_test.shape[1],1)"
      ],
      "execution_count": null,
      "outputs": []
    },
    {
      "cell_type": "code",
      "metadata": {
        "id": "FSbDUo0oK4nz",
        "colab_type": "code",
        "colab": {}
      },
      "source": [
        "## Bilud model\n",
        "# Ref:https://machinelearningmastery.com/how-to-develop-convolutional-neural-network-models-for-time-series-forecasting/\n",
        "model = Sequential()\n",
        "model.add(Conv1D(filters=64, kernel_size=2, activation='relu', input_shape=(144, 1)))\n",
        "model.add(MaxPooling1D(pool_size=2))\n",
        "\n",
        "# model.add(Conv1D(filters=64, kernel_size=2, activation='relu'))\n",
        "# model.add(MaxPooling1D(pool_size=2))\n",
        "\n",
        "model.add(Flatten())\n",
        "model.add(Dense(50, activation='relu'))\n",
        "model.add(Dense(18))\n",
        "print(model.summary())"
      ],
      "execution_count": null,
      "outputs": []
    },
    {
      "cell_type": "code",
      "metadata": {
        "id": "w5QCxUcqvfbH",
        "colab_type": "code",
        "colab": {}
      },
      "source": [
        "## Training and testing model\n",
        "start = time.time()\n",
        "# set up learning rate\n",
        "# learning_rate = 1e-3 #The learning rate. Defaults to 0.001. #5*1e-6\n",
        "path_model='48hr_CNN_64_model_filter_lr0.1_mo0.1_SGD_500.h5' # save model at this location after each epoch\n",
        "optimizer = keras.optimizers.SGD(learning_rate=0.1, momentum=0.1)\n",
        "model.compile(loss='mean_squared_error', optimizer=optimizer)\n",
        "# early_stop = EarlyStopping(monitor='loss', patience=2, verbose=1)\n",
        "history = model.fit(X_train, y_train,\n",
        "                    epochs=500,\n",
        "                    verbose=1,\n",
        "                    validation_data=(X_vali,y_vali),\n",
        "                    shuffle=False,\n",
        "                    callbacks=[ModelCheckpoint(filepath=path_model)])  #early_stop\n",
        "end = time.time()\n",
        "running_time = end-start\n",
        "print('time cost : %.5f sec' %running_time)"
      ],
      "execution_count": null,
      "outputs": []
    },
    {
      "cell_type": "markdown",
      "metadata": {
        "id": "p0q6h6GVkEww",
        "colab_type": "text"
      },
      "source": [
        "# Visulize the Result"
      ]
    },
    {
      "cell_type": "code",
      "metadata": {
        "id": "vsMpC3u4vmUs",
        "colab_type": "code",
        "colab": {}
      },
      "source": [
        "from sklearn import metrics\n",
        "## Visulize the Result\n",
        "y_pred_train = model.predict(X_train)\n",
        "y_pred_vali = model.predict(X_vali)\n",
        "y_pred_test = model.predict(X_test)\n",
        "\n",
        "score_train = np.sqrt(metrics.mean_squared_error(y_pred_train,y_train))\n",
        "score_vali = np.sqrt(metrics.mean_squared_error(y_pred_vali,y_vali))\n",
        "score_test = np.sqrt(metrics.mean_squared_error(y_pred_test,y_test))\n",
        "\n",
        "print(\"RMSE Score on Training data: {}\".format(score_train))\n",
        "print(\"RMSE Score on Validating data: {}\".format(score_vali))\n",
        "print(\"RMSE Score on Testing data: {}\".format(score_test))\n",
        "# print('\\n')\n",
        "# print(\"The R2 score on the Train set is:\\t{:0.3f}\".format(r2_score(y_train, y_train_pred)))\n",
        "# print(\"The R2 score on the Test set is:\\t{:0.3f}\".format(r2_score(y_vali, y_pred_test)))"
      ],
      "execution_count": null,
      "outputs": []
    },
    {
      "cell_type": "code",
      "metadata": {
        "id": "jnK68_Mr5Han",
        "colab_type": "code",
        "colab": {}
      },
      "source": [
        "plt.figure(figsize=(15, 10))\n",
        "plt.xticks(fontsize=15)\n",
        "plt.yticks(fontsize=15)\n",
        "loss = np.sqrt(history.history.get('loss'))\n",
        "val_loss = np.sqrt(history.history.get('val_loss'))\n",
        "plt.plot(range(len(loss)), loss, label='Training RMSE')\n",
        "plt.plot(range(len(val_loss)), val_loss, label='Validation RMSE')\n",
        "plt.legend(loc='upper right',fontsize=15)\n",
        "plt.title('Root Mean Square Error',fontsize=15)\n",
        "plt.xlabel('The number of epoch',fontsize=15)\n",
        "plt.ylabel('Root Mean Square Error',fontsize=15)"
      ],
      "execution_count": null,
      "outputs": []
    },
    {
      "cell_type": "code",
      "metadata": {
        "id": "rLI7xKQFYitP",
        "colab_type": "code",
        "colab": {}
      },
      "source": [
        "loss_df = pd.DataFrame(loss)\n",
        "val_loss_df = pd.DataFrame(val_loss)\n",
        "loss_df.to_csv('48hr_CNN_64_train_RMSE_lr0.1_mo0.1_SGD_500.csv', index = False) # save the result to csv file\n",
        "val_loss_df.to_csv('48hr_CNN_64_validate_RMSE_lr0.1_mo0.1_SGD_500.csv', index = False)"
      ],
      "execution_count": null,
      "outputs": []
    },
    {
      "cell_type": "code",
      "metadata": {
        "id": "YTzaAn4Dvtgw",
        "colab_type": "code",
        "colab": {}
      },
      "source": [
        "# The true and predictive value in validating data (X axis)\n",
        "plt.figure(figsize=(10, 6))\n",
        "plt.plot(y_vali[:,5],'red',label='True(X axis)')\n",
        "plt.plot(y_pred_vali[:,5],linestyle='--',label='NN(X axis)')\n",
        "plt.title(\"The true and predictive value in validating data \")\n",
        "plt.xlabel('Observation')\n",
        "plt.ylabel('Amplitudes')\n",
        "plt.legend()\n",
        "plt.show()"
      ],
      "execution_count": null,
      "outputs": []
    },
    {
      "cell_type": "code",
      "metadata": {
        "id": "3QGDj6CpbEme",
        "colab_type": "code",
        "colab": {}
      },
      "source": [
        "# The true and predictive value in validating data (Y axis)\n",
        "plt.figure(figsize=(10, 6))\n",
        "plt.plot(y_vali[:,11],'darkorange',label='True(Y axis)')\n",
        "plt.plot(y_pred_vali[:,11],'fuchsia',linestyle='--',label='NN(Y axis)')\n",
        "plt.title(\"The true and predictive value in validating data\")\n",
        "plt.xlabel('Observation')\n",
        "plt.ylabel('Amplitudes')\n",
        "plt.legend()\n",
        "plt.show()"
      ],
      "execution_count": null,
      "outputs": []
    },
    {
      "cell_type": "code",
      "metadata": {
        "id": "R9-wAkcSbF8I",
        "colab_type": "code",
        "colab": {}
      },
      "source": [
        "# The true and predictive value in validating data (Z axis)\n",
        "plt.figure(figsize=(10, 6))\n",
        "plt.plot(y_vali[:,17],'darkgreen',label='True(Z axis)')\n",
        "plt.plot(y_pred_vali[:,17],'brown',linestyle='--',label='NN(Z axis)')\n",
        "plt.title(\"The true and predictive value in validating data\")\n",
        "plt.xlabel('Observation')\n",
        "plt.ylabel('Amplitudes')\n",
        "plt.legend()\n",
        "plt.show()"
      ],
      "execution_count": null,
      "outputs": []
    },
    {
      "cell_type": "code",
      "metadata": {
        "id": "SzGjqUxd7NQo",
        "colab_type": "code",
        "colab": {}
      },
      "source": [
        "# The true and predictive value in testing data (X axis)\n",
        "plt.figure(figsize=(10, 6))\n",
        "plt.plot(y_test[:,5],'red',label='True(X axis)')\n",
        "plt.plot(y_pred_test[:,5],linestyle='--',label='NN(X axis)')\n",
        "plt.title(\"The true and predictive value in testing data \")\n",
        "plt.xlabel('Observation')\n",
        "plt.ylabel('Amplitudes')\n",
        "plt.legend()\n",
        "plt.show()"
      ],
      "execution_count": null,
      "outputs": []
    },
    {
      "cell_type": "code",
      "metadata": {
        "id": "rBpwamjo9r3V",
        "colab_type": "code",
        "colab": {}
      },
      "source": [
        "# The true and predictive value in testing data (Y axis)\n",
        "plt.figure(figsize=(10, 6))\n",
        "plt.plot(y_test[:,11],'darkorange',label='True(Y axis)')\n",
        "plt.plot(y_pred_test[:,11],'fuchsia',linestyle='--',label='NN(Y axis)')\n",
        "plt.title(\"The true and predictive value in testing data\")\n",
        "plt.xlabel('Observation')\n",
        "plt.ylabel('Amplitudes')\n",
        "plt.legend()\n",
        "plt.show()"
      ],
      "execution_count": null,
      "outputs": []
    },
    {
      "cell_type": "code",
      "metadata": {
        "id": "ItsDLojG9sCH",
        "colab_type": "code",
        "colab": {}
      },
      "source": [
        "# The true and predictive value in testing data (Z axis)\n",
        "plt.figure(figsize=(10, 6))\n",
        "plt.plot(y_test[:,17],'darkgreen',label='True(Z axis)')\n",
        "plt.plot(y_pred_test[:,17],'brown',linestyle='--',label='NN(Z axis)')\n",
        "plt.title(\"The true and predictive value in testing data\")\n",
        "plt.xlabel('Observation')\n",
        "plt.ylabel('Amplitudes')\n",
        "plt.legend()\n",
        "plt.show()"
      ],
      "execution_count": null,
      "outputs": []
    },
    {
      "cell_type": "code",
      "metadata": {
        "id": "95bphgtWwU4V",
        "colab_type": "code",
        "colab": {}
      },
      "source": [
        ""
      ],
      "execution_count": null,
      "outputs": []
    }
  ]
}