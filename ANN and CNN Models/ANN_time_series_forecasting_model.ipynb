{
  "nbformat": 4,
  "nbformat_minor": 0,
  "metadata": {
    "colab": {
      "name": "ANN_time-series forecasting model.ipynb",
      "provenance": [],
      "collapsed_sections": [],
      "toc_visible": true
    },
    "kernelspec": {
      "name": "python3",
      "display_name": "Python 3"
    },
    "accelerator": "GPU"
  },
  "cells": [
    {
      "cell_type": "markdown",
      "metadata": {
        "id": "4f-ixfapj6sW",
        "colab_type": "text"
      },
      "source": [
        "# Import Library"
      ]
    },
    {
      "cell_type": "code",
      "metadata": {
        "id": "Gmf4ACZkpz54",
        "colab_type": "code",
        "colab": {}
      },
      "source": [
        "## import library\n",
        "import pandas as pd\n",
        "import numpy as np\n",
        "%matplotlib inline\n",
        "import matplotlib.pyplot as plt\n",
        "from sklearn import metrics\n",
        "import keras\n",
        "from keras.models import Sequential\n",
        "from keras.layers import Dense\n",
        "from keras.callbacks import ModelCheckpoint\n",
        "from keras.optimizers import SGD\n",
        "import time"
      ],
      "execution_count": null,
      "outputs": []
    },
    {
      "cell_type": "markdown",
      "metadata": {
        "id": "ntTuhnrlKQ-4",
        "colab_type": "text"
      },
      "source": [
        "# Read dataset"
      ]
    },
    {
      "cell_type": "code",
      "metadata": {
        "id": "ATjSSD25LMnR",
        "colab_type": "code",
        "colab": {}
      },
      "source": [
        "## Read dataset\n",
        "Data = pd.read_csv('data_plot02.csv',',')\n",
        "Data.head()"
      ],
      "execution_count": null,
      "outputs": []
    },
    {
      "cell_type": "code",
      "metadata": {
        "id": "TZpvqdUKg4vV",
        "colab_type": "code",
        "colab": {}
      },
      "source": [
        "plt.figure(figsize=(15,10))\n",
        "plt.xticks(fontsize=15)\n",
        "plt.yticks(fontsize=15)\n",
        "plt.plot(Data['X'],label='X axis')\n",
        "plt.plot(Data['Y'],label='Y axis')\n",
        "plt.plot(Data['Z'],label='Z axis')\n",
        "plt.title(\"True data\",fontsize=15)\n",
        "plt.xlabel('Observation',fontsize=15)\n",
        "plt.ylabel('Speed (mm/s)',fontsize=15)\n",
        "plt.legend(fontsize=15)\n",
        "plt.show()"
      ],
      "execution_count": null,
      "outputs": []
    },
    {
      "cell_type": "code",
      "metadata": {
        "id": "N-IPcy_f1iF3",
        "colab_type": "code",
        "colab": {}
      },
      "source": [
        "# Case A (input data = 6 hours)\n",
        "X_train = pd.read_csv('X_train_6_02.csv',',')\n",
        "y_train = pd.read_csv('y_train_6_02.csv',',')\n",
        "X_vali = pd.read_csv('X_vali_6_02.csv',',')\n",
        "y_vali = pd.read_csv('y_vali_6_02.csv',',')\n",
        "X_test = pd.read_csv('X_test_6_02.csv',',')\n",
        "y_test = pd.read_csv('y_test_6_02.csv',',')\n",
        "\n",
        "# Case B (input data = 12 hours)\n",
        "# X_train = pd.read_csv('X_train_12_02.csv',',')\n",
        "# y_train = pd.read_csv('y_train_12_02.csv',',')\n",
        "# X_vali = pd.read_csv('X_vali_12_02.csv',',')\n",
        "# y_vali = pd.read_csv('y_vali_12_02.csv',',')\n",
        "# X_test = pd.read_csv('X_test_12_02.csv',',')\n",
        "# y_test = pd.read_csv('y_test_12_02.csv',',')\n",
        "\n",
        "# Case C (input data = 24 hours)\n",
        "# X_train = pd.read_csv('X_train_24_02.csv',',')\n",
        "# y_train = pd.read_csv('y_train_24_02.csv',',')\n",
        "# X_vali = pd.read_csv('X_vali_24_02.csv',',')\n",
        "# y_vali = pd.read_csv('y_vali_24_02.csv',',')\n",
        "# X_test = pd.read_csv('X_test_24_02.csv',',')\n",
        "# y_test = pd.read_csv('y_test_24_02.csv',',')\n",
        "\n",
        "# Case D (input data = 48 hours)\n",
        "# X_train = pd.read_csv('X_train_48_02.csv',',')\n",
        "# y_train = pd.read_csv('y_train_48_02.csv',',')\n",
        "# X_vali = pd.read_csv('X_vali_48_02.csv',',')\n",
        "# y_vali = pd.read_csv('y_vali_48_02.csv',',')\n",
        "# X_test = pd.read_csv('X_test_48_02.csv',',')\n",
        "# y_test = pd.read_csv('y_test_48_02.csv',',')"
      ],
      "execution_count": null,
      "outputs": []
    },
    {
      "cell_type": "markdown",
      "metadata": {
        "id": "M7HPWOEj_oYc",
        "colab_type": "text"
      },
      "source": [
        "# Build Model"
      ]
    },
    {
      "cell_type": "code",
      "metadata": {
        "id": "FSbDUo0oK4nz",
        "colab_type": "code",
        "colab": {}
      },
      "source": [
        "## Bilud model\n",
        "nn_model = Sequential()\n",
        "nn_model.add(Dense(4, input_dim=144, activation='sigmoid'))\n",
        "nn_model.add(Dense(4, activation='sigmoid'))\n",
        "# nn_model.add(Dense(9, activation='sigmoid'))\n",
        "nn_model.add(Dense(18))\n",
        "print(nn_model.summary())"
      ],
      "execution_count": null,
      "outputs": []
    },
    {
      "cell_type": "code",
      "metadata": {
        "id": "w5QCxUcqvfbH",
        "colab_type": "code",
        "colab": {}
      },
      "source": [
        "# Training and testing model\n",
        "start = time.time()\n",
        "path_model='48hr_4x4_model_filter_lr0.01_mo0.1_SGD_500.h5' # save model at this location after each epoch\n",
        "optimizer = keras.optimizers.SGD(learning_rate=0.01, momentum=0.1)\n",
        "nn_model.compile(loss='mean_squared_error', optimizer=optimizer)\n",
        "history = nn_model.fit(X_train, y_train, \n",
        "                       epochs=500, \n",
        "                       batch_size=1, \n",
        "                       verbose=1,\n",
        "                       validation_data=(X_vali,y_vali), \n",
        "                       callbacks=[ModelCheckpoint(filepath=path_model)], shuffle=False)  #early_stop\n",
        "end = time.time()\n",
        "running_time = end-start\n",
        "print('time cost : %.5f sec' %running_time)"
      ],
      "execution_count": null,
      "outputs": []
    },
    {
      "cell_type": "markdown",
      "metadata": {
        "id": "p0q6h6GVkEww",
        "colab_type": "text"
      },
      "source": [
        "# Visulize the Result"
      ]
    },
    {
      "cell_type": "code",
      "metadata": {
        "id": "vsMpC3u4vmUs",
        "colab_type": "code",
        "colab": {}
      },
      "source": [
        "## Visulize the Result\n",
        "y_pred_train_nn = nn_model.predict(X_train)\n",
        "y_pred_vali_nn = nn_model.predict(X_vali)\n",
        "y_pred_test_nn = nn_model.predict(X_test)\n",
        "score_train = np.sqrt(metrics.mean_squared_error(y_pred_train_nn,y_train))\n",
        "score_vali = np.sqrt(metrics.mean_squared_error(y_pred_vali_nn,y_vali))\n",
        "score_test = np.sqrt(metrics.mean_squared_error(y_pred_test_nn,y_test))\n",
        "print(\"RMSE Score on Training data: {}\".format(score_train))\n",
        "print(\"RMSE Score on Validating data: {}\".format(score_vali))\n",
        "print(\"RMSE Score on Testing data: {}\".format(score_test))"
      ],
      "execution_count": null,
      "outputs": []
    },
    {
      "cell_type": "code",
      "metadata": {
        "id": "jnK68_Mr5Han",
        "colab_type": "code",
        "colab": {}
      },
      "source": [
        "plt.figure(figsize=(15, 10))\n",
        "plt.xticks(fontsize=15)\n",
        "plt.yticks(fontsize=15)\n",
        "loss = np.sqrt(history.history.get('loss'))\n",
        "val_loss = np.sqrt(history.history.get('val_loss'))\n",
        "plt.plot(range(len(loss)), loss, label='Training RMSE')\n",
        "plt.plot(range(len(val_loss)), val_loss, label='Validation RMSE')\n",
        "plt.legend(loc='upper right',fontsize=15)\n",
        "plt.title('Root Mean Square Error',fontsize=15)\n",
        "plt.xlabel('The number of epoch',fontsize=15)\n",
        "plt.ylabel('Root Mean Square Error',fontsize=15)"
      ],
      "execution_count": null,
      "outputs": []
    },
    {
      "cell_type": "code",
      "metadata": {
        "id": "rLI7xKQFYitP",
        "colab_type": "code",
        "colab": {}
      },
      "source": [
        "# save the result to csv file\n",
        "loss_df = pd.DataFrame(loss)\n",
        "val_loss_df = pd.DataFrame(val_loss)\n",
        "loss_df.to_csv('48hr_4x4_train_RMSE_lr0.01_mo0.1_SGD_500.csv', index = False) \n",
        "val_loss_df.to_csv('48hr_4x4_validate_RMSE_lr0.01_mo0.1_SGD_500.csv', index = False)"
      ],
      "execution_count": null,
      "outputs": []
    },
    {
      "cell_type": "code",
      "metadata": {
        "id": "YTzaAn4Dvtgw",
        "colab_type": "code",
        "colab": {}
      },
      "source": [
        "# The true and predictive value in validating data (X axis)\n",
        "plt.figure(figsize=(10, 6))\n",
        "plt.plot(y_vali.values[:,5],'red',label='True(X axis)')\n",
        "plt.plot(y_pred_vali_nn[:,5],linestyle='--',label='NN(X axis)')\n",
        "plt.title(\"The true and predictive value in validating data \")\n",
        "plt.xlabel('Observation')\n",
        "plt.ylabel('Amplitudes')\n",
        "plt.legend()\n",
        "plt.show()"
      ],
      "execution_count": null,
      "outputs": []
    },
    {
      "cell_type": "code",
      "metadata": {
        "id": "3QGDj6CpbEme",
        "colab_type": "code",
        "colab": {}
      },
      "source": [
        "# The true and predictive value in validating data (Y axis)\n",
        "plt.figure(figsize=(10, 6))\n",
        "plt.plot(y_vali.values[:,11],'darkorange',label='True(Y axis)')\n",
        "plt.plot(y_pred_vali_nn[:,11],'fuchsia',linestyle='--',label='NN(Y axis)')\n",
        "plt.title(\"The true and predictive value in validating data\")\n",
        "plt.xlabel('Observation')\n",
        "plt.ylabel('Amplitudes')\n",
        "plt.legend()\n",
        "plt.show()"
      ],
      "execution_count": null,
      "outputs": []
    },
    {
      "cell_type": "code",
      "metadata": {
        "id": "R9-wAkcSbF8I",
        "colab_type": "code",
        "colab": {}
      },
      "source": [
        "# The true and predictive value in validating data (Z axis)\n",
        "plt.figure(figsize=(10, 6))\n",
        "plt.plot(y_vali.values[:,17],'darkgreen',label='True(Z axis)')\n",
        "plt.plot(y_pred_vali_nn[:,17],'brown',linestyle='--',label='NN(Z axis)')\n",
        "plt.title(\"The true and predictive value in validating data\")\n",
        "plt.xlabel('Observation')\n",
        "plt.ylabel('Amplitudes')\n",
        "plt.legend()\n",
        "plt.show()"
      ],
      "execution_count": null,
      "outputs": []
    },
    {
      "cell_type": "code",
      "metadata": {
        "id": "SzGjqUxd7NQo",
        "colab_type": "code",
        "colab": {}
      },
      "source": [
        "# The true and predictive value in testing data (X axis)\n",
        "plt.figure(figsize=(10, 6))\n",
        "plt.plot(y_test.values[:,5],'red',label='True(X axis)')\n",
        "plt.plot(y_pred_test_nn[:,5],linestyle='--',label='NN(X axis)')\n",
        "plt.title(\"The true and predictive value in testing data \")\n",
        "plt.xlabel('Observation')\n",
        "plt.ylabel('Amplitudes')\n",
        "plt.legend()\n",
        "plt.show()"
      ],
      "execution_count": null,
      "outputs": []
    },
    {
      "cell_type": "code",
      "metadata": {
        "id": "rBpwamjo9r3V",
        "colab_type": "code",
        "colab": {}
      },
      "source": [
        "# The true and predictive value in testing data (Y axis)\n",
        "plt.figure(figsize=(10, 6))\n",
        "plt.plot(y_test.values[:,11],'darkorange',label='True(Y axis)')\n",
        "plt.plot(y_pred_test_nn[:,11],'fuchsia',linestyle='--',label='NN(Y axis)')\n",
        "plt.title(\"The true and predictive value in testing data\")\n",
        "plt.xlabel('Observation')\n",
        "plt.ylabel('Amplitudes')\n",
        "plt.legend()\n",
        "plt.show()"
      ],
      "execution_count": null,
      "outputs": []
    },
    {
      "cell_type": "code",
      "metadata": {
        "id": "ItsDLojG9sCH",
        "colab_type": "code",
        "colab": {}
      },
      "source": [
        "# The true and predictive value in testing data (Z axis)\n",
        "plt.figure(figsize=(10, 6))\n",
        "plt.plot(y_test.values[:,17],'darkgreen',label='True(Z axis)')\n",
        "plt.plot(y_pred_test_nn[:,17],'brown',linestyle='--',label='NN(Z axis)')\n",
        "plt.title(\"The true and predictive value in testing data\")\n",
        "plt.xlabel('Observation')\n",
        "plt.ylabel('Amplitudes')\n",
        "plt.legend()\n",
        "plt.show()"
      ],
      "execution_count": null,
      "outputs": []
    },
    {
      "cell_type": "markdown",
      "metadata": {
        "id": "0OggvK8L2THM",
        "colab_type": "text"
      },
      "source": [
        "# Load the learning Model"
      ]
    },
    {
      "cell_type": "code",
      "metadata": {
        "id": "TvB4ATYF2bd1",
        "colab_type": "code",
        "colab": {}
      },
      "source": [
        "## Load the learning Model\n",
        "# Ref: https://machinelearningmastery.com/save-load-keras-deep-learning-models/\n",
        "# load and evaluate a saved model\n",
        "from numpy import loadtxt\n",
        "from keras.models import load_model\n",
        " \n",
        "# load model\n",
        "nn_model = load_model('6hr_4x4_model_filter_lr0.01_mo0.1_SGD_500.h5')\n",
        "# summarize model.\n",
        "nn_model.summary()"
      ],
      "execution_count": null,
      "outputs": []
    },
    {
      "cell_type": "code",
      "metadata": {
        "id": "JopbHn1c4RzT",
        "colab_type": "code",
        "colab": {}
      },
      "source": [
        "## Load dataset\n",
        "X_train = pd.read_csv('X_train_6_02.csv',',',names=['X1','X2','X3','X4','X5','X6','Y1','Y2','Y3','Y4','Y5','Y6','Z1','Z2','Z3','Z4','Z5','Z6'])\n",
        "y_train = pd.read_csv('y_train_6_02.csv',',',names=['X1','X2','X3','X4','X5','X6','Y1','Y2','Y3','Y4','Y5','Y6','Z1','Z2','Z3','Z4','Z5','Z6'])\n",
        "X_vali = pd.read_csv('X_vali_6_02.csv',',',names=['X1','X2','X3','X4','X5','X6','Y1','Y2','Y3','Y4','Y5','Y6','Z1','Z2','Z3','Z4','Z5','Z6'])\n",
        "y_vali = pd.read_csv('y_vali_6_02.csv',',',names=['X1','X2','X3','X4','X5','X6','Y1','Y2','Y3','Y4','Y5','Y6','Z1','Z2','Z3','Z4','Z5','Z6'])\n",
        "X_test = pd.read_csv('X_test_6_02.csv',',',names=['X1','X2','X3','X4','X5','X6','Y1','Y2','Y3','Y4','Y5','Y6','Z1','Z2','Z3','Z4','Z5','Z6'])\n",
        "y_test = pd.read_csv('y_test_6_02.csv',',',names=['X1','X2','X3','X4','X5','X6','Y1','Y2','Y3','Y4','Y5','Y6','Z1','Z2','Z3','Z4','Z5','Z6'])"
      ],
      "execution_count": null,
      "outputs": []
    },
    {
      "cell_type": "code",
      "metadata": {
        "id": "ej68HrHB3wos",
        "colab_type": "code",
        "colab": {}
      },
      "source": [
        "## estimate the accuracy\n",
        "y_pred_train_nn = nn_model.predict(X_train)\n",
        "y_pred_vali_nn = nn_model.predict(X_vali)\n",
        "y_pred_test_nn = nn_model.predict(X_test)\n",
        "score_train = np.sqrt(metrics.mean_squared_error(y_pred_train_nn,y_train))\n",
        "score_vali = np.sqrt(metrics.mean_squared_error(y_pred_vali_nn,y_vali))\n",
        "score_test = np.sqrt(metrics.mean_squared_error(y_pred_test_nn,y_test))\n",
        "print(\"RMSE Score on Training data: {}\".format(score_train))\n",
        "print(\"RMSE Score on Validating data: {}\".format(score_vali))\n",
        "print(\"RMSE Score on Testing data: {}\".format(score_test))"
      ],
      "execution_count": null,
      "outputs": []
    },
    {
      "cell_type": "code",
      "metadata": {
        "id": "6HhgVomV6ak4",
        "colab_type": "code",
        "colab": {}
      },
      "source": [
        "## Visulize the result\n",
        "# Combining true and predictive datasets\n",
        "y_train_np= y_train.to_numpy()\n",
        "y_vali_np= y_vali.to_numpy()\n",
        "y_test_np= y_test.to_numpy()\n",
        "true = np.vstack((y_train_np,y_vali_np,y_test_np))\n",
        "df_true = pd.DataFrame(true)\n",
        "pred = np.vstack((y_pred_train_nn,y_pred_vali_nn,y_pred_test_nn))\n",
        "df_pred = pd.DataFrame(pred)"
      ],
      "execution_count": null,
      "outputs": []
    },
    {
      "cell_type": "code",
      "metadata": {
        "id": "4osO1ROPBQjP",
        "colab_type": "code",
        "colab": {}
      },
      "source": [
        "# The result in X axis\n",
        "train = df_true.iloc[0:699,0]\n",
        "vali_true = df_true.iloc[699:849,0]\n",
        "vali_pred = df_pred.iloc[699:849,0]\n",
        "test_true = df_true.iloc[849:999,0]\n",
        "test_pred = df_pred.iloc[849:999,0]\n",
        "plt.figure(figsize=(10, 6))\n",
        "plt.xticks(fontsize=15)\n",
        "plt.yticks(fontsize=15)\n",
        "plt.title('The speed of X axis in true and predictive data',fontsize=15)\n",
        "plt.xlabel('Time (hours)',fontsize=15)\n",
        "plt.ylabel('Speed (mm/s)',fontsize=15)\n",
        "plt.plot(train, 'blue',label='Training data')\n",
        "plt.plot(vali_true, label='Validating data (true)')\n",
        "plt.plot(vali_pred ,'--',label='Validating data (predictive) ')\n",
        "plt.plot(test_true, label='Testing data (true)')\n",
        "plt.plot(test_pred ,'--',label='Testing data (predictive) ')\n",
        "plt.legend(fontsize=15)\n",
        "plt.show()"
      ],
      "execution_count": null,
      "outputs": []
    },
    {
      "cell_type": "code",
      "metadata": {
        "id": "NOGeBEjRBt-x",
        "colab_type": "code",
        "colab": {}
      },
      "source": [
        "# The result in Y axis\n",
        "train = df_true.iloc[0:699,6]\n",
        "vali_true = df_true.iloc[699:849,6]\n",
        "vali_pred = df_pred.iloc[699:849,6]\n",
        "test_true = df_true.iloc[849:999,6]\n",
        "test_pred = df_pred.iloc[849:999,6]\n",
        "plt.figure(figsize=(10, 6))\n",
        "plt.xticks(fontsize=15)\n",
        "plt.yticks(fontsize=15)\n",
        "plt.title('The speed of Y axis in true and predictive data',fontsize=15)\n",
        "plt.xlabel('Time (hours)',fontsize=15)\n",
        "plt.ylabel('Speed (mm/s)',fontsize=15)\n",
        "plt.plot(train, 'blue',label='Training data')\n",
        "plt.plot(vali_true, label='Validating data (true)')\n",
        "plt.plot(vali_pred ,'--',label='Validating data (predictive) ')\n",
        "plt.plot(test_true, label='Testing data (true)')\n",
        "plt.plot(test_pred ,'--',label='Testing data (predictive) ')\n",
        "plt.legend(fontsize=15)\n",
        "plt.show()"
      ],
      "execution_count": null,
      "outputs": []
    },
    {
      "cell_type": "code",
      "metadata": {
        "id": "ODSaCtiHYVmD",
        "colab_type": "code",
        "colab": {}
      },
      "source": [
        "# The result in Z axis\n",
        "train = df_true.iloc[0:699,12]\n",
        "vali_true = df_true.iloc[699:849,12]\n",
        "vali_pred = df_pred.iloc[699:849,12]\n",
        "test_true = df_true.iloc[849:999,12]\n",
        "test_pred = df_pred.iloc[849:999,12]\n",
        "plt.figure(figsize=(10, 6))\n",
        "plt.xticks(fontsize=15)\n",
        "plt.yticks(fontsize=15)\n",
        "plt.title('The speed of Z axis in true and predictive data',fontsize=15)\n",
        "plt.xlabel('Time (hours)',fontsize=15)\n",
        "plt.ylabel('Speed (mm/s)',fontsize=15)\n",
        "plt.plot(train, 'blue',label='Training data')\n",
        "plt.plot(vali_true, label='Validating data (true)')\n",
        "plt.plot(vali_pred ,'--',label='Validating data (predictive) ')\n",
        "plt.plot(test_true, label='Testing data (true)')\n",
        "plt.plot(test_pred ,'--',label='Testing data (predictive) ')\n",
        "plt.legend(fontsize=15)\n",
        "plt.show()"
      ],
      "execution_count": null,
      "outputs": []
    },
    {
      "cell_type": "code",
      "metadata": {
        "id": "D5b8rCOK9pe6",
        "colab_type": "code",
        "colab": {}
      },
      "source": [
        ""
      ],
      "execution_count": null,
      "outputs": []
    }
  ]
}