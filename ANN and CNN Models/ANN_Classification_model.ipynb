{
  "nbformat": 4,
  "nbformat_minor": 0,
  "metadata": {
    "colab": {
      "name": "ANN_Classification model.ipynb",
      "provenance": [],
      "collapsed_sections": [],
      "toc_visible": true
    },
    "kernelspec": {
      "name": "python3",
      "display_name": "Python 3"
    },
    "accelerator": "GPU"
  },
  "cells": [
    {
      "cell_type": "markdown",
      "metadata": {
        "id": "4f-ixfapj6sW",
        "colab_type": "text"
      },
      "source": [
        "# Import Library"
      ]
    },
    {
      "cell_type": "code",
      "metadata": {
        "id": "Gmf4ACZkpz54",
        "colab_type": "code",
        "colab": {}
      },
      "source": [
        "## Import Library\n",
        "import pandas as pd\n",
        "import numpy as np\n",
        "%matplotlib inline\n",
        "import matplotlib.pyplot as plt\n",
        "import keras\n",
        "from keras.models import Sequential\n",
        "from keras.layers import Dense\n",
        "from keras.wrappers.scikit_learn import KerasClassifier\n",
        "from keras.callbacks import ModelCheckpoint\n",
        "from sklearn.model_selection import train_test_split\n",
        "import time"
      ],
      "execution_count": null,
      "outputs": []
    },
    {
      "cell_type": "markdown",
      "metadata": {
        "id": "ntTuhnrlKQ-4",
        "colab_type": "text"
      },
      "source": [
        "# Read dataset"
      ]
    },
    {
      "cell_type": "code",
      "metadata": {
        "id": "N-IPcy_f1iF3",
        "colab_type": "code",
        "colab": {}
      },
      "source": [
        "## Read dataset\n",
        "Data = pd.read_csv('classify_data.csv',',')"
      ],
      "execution_count": null,
      "outputs": []
    },
    {
      "cell_type": "code",
      "metadata": {
        "id": "ps3wGJO7hC_j",
        "colab_type": "code",
        "colab": {}
      },
      "source": [
        "Data.head()"
      ],
      "execution_count": null,
      "outputs": []
    },
    {
      "cell_type": "markdown",
      "metadata": {
        "id": "M7HPWOEj_oYc",
        "colab_type": "text"
      },
      "source": [
        "# Classification model in training, validating and testing data"
      ]
    },
    {
      "cell_type": "code",
      "metadata": {
        "id": "fbAk9gUmfoYJ",
        "colab_type": "code",
        "colab": {}
      },
      "source": [
        "## Split the data to training dataset (80%), testing (10%) and validating (10%) dataset(x and y)\n",
        "fn_data_x = Data.iloc[:,:-1].to_numpy()\n",
        "fn_data_y = Data['Label'].to_numpy()\n",
        "X_train, xtv, y_train, ytv = train_test_split(fn_data_x, fn_data_y, test_size = 0.2, shuffle = True, random_state = 2019)\n",
        "X_vali, X_test, y_vali, y_test = train_test_split(xtv, ytv, test_size = 0.5, shuffle = True, random_state = 2019)"
      ],
      "execution_count": null,
      "outputs": []
    },
    {
      "cell_type": "code",
      "metadata": {
        "id": "FSbDUo0oK4nz",
        "colab_type": "code",
        "colab": {
          "base_uri": "https://localhost:8080/",
          "height": 247
        },
        "outputId": "f73ddb9b-0ccc-414d-c413-2c37f71c7296"
      },
      "source": [
        "## Bilud model\n",
        "nn_model = Sequential()\n",
        "nn_model.add(Dense(2, input_dim=18, activation='sigmoid')) #  input layer and first hidden layer\n",
        "# nn_model.add(Dense(3, activation='sigmoid')) # second hidden layer\n",
        "# nn_model.add(Dense(6, activation='sigmoid')) # third hidden layer\n",
        "nn_model.add(Dense(1, activation='sigmoid')) # output layer\n",
        "print(nn_model.summary())"
      ],
      "execution_count": null,
      "outputs": [
        {
          "output_type": "stream",
          "text": [
            "Model: \"sequential_7\"\n",
            "_________________________________________________________________\n",
            "Layer (type)                 Output Shape              Param #   \n",
            "=================================================================\n",
            "dense_14 (Dense)             (None, 2)                 38        \n",
            "_________________________________________________________________\n",
            "dense_15 (Dense)             (None, 1)                 3         \n",
            "=================================================================\n",
            "Total params: 41\n",
            "Trainable params: 41\n",
            "Non-trainable params: 0\n",
            "_________________________________________________________________\n",
            "None\n"
          ],
          "name": "stdout"
        }
      ]
    },
    {
      "cell_type": "code",
      "metadata": {
        "id": "w5QCxUcqvfbH",
        "colab_type": "code",
        "colab": {
          "base_uri": "https://localhost:8080/",
          "height": 1000
        },
        "outputId": "3e4b7a3c-af89-4202-abbf-f4f97ed983ef"
      },
      "source": [
        "## Training and testing model\n",
        "start = time.time()\n",
        "path_model='Cl_2_model_filter_lr0.1_mo0.8_SGD_100.h5' # save model at this location after each epoch\n",
        "optimizer = keras.optimizers.SGD(learning_rate=0.1, momentum=0.8)\n",
        "nn_model.compile(loss='binary_crossentropy', metrics=['accuracy'], optimizer=optimizer)\n",
        "history = nn_model.fit(X_train, y_train, \n",
        "                       epochs=100, \n",
        "                       batch_size=5, \n",
        "                       verbose=1,\n",
        "                       validation_data=(X_vali,y_vali), \n",
        "                       callbacks=[ModelCheckpoint(filepath=path_model)], shuffle=True) # callbacks=[early_stop]\n",
        "end = time.time()\n",
        "running_time = end-start\n",
        "print('time cost : %.5f sec' %running_time)"
      ],
      "execution_count": null,
      "outputs": [
        {
          "output_type": "stream",
          "text": [
            "Epoch 1/100\n",
            "160/160 [==============================] - 0s 3ms/step - loss: 0.2704 - accuracy: 0.9137 - val_loss: 0.0502 - val_accuracy: 0.9900\n",
            "Epoch 2/100\n",
            "160/160 [==============================] - 0s 2ms/step - loss: 0.0272 - accuracy: 1.0000 - val_loss: 0.0162 - val_accuracy: 1.0000\n",
            "Epoch 3/100\n",
            "160/160 [==============================] - 0s 2ms/step - loss: 0.0122 - accuracy: 1.0000 - val_loss: 0.0096 - val_accuracy: 1.0000\n",
            "Epoch 4/100\n",
            "160/160 [==============================] - 0s 2ms/step - loss: 0.0081 - accuracy: 1.0000 - val_loss: 0.0071 - val_accuracy: 1.0000\n",
            "Epoch 5/100\n",
            "160/160 [==============================] - 0s 2ms/step - loss: 0.0062 - accuracy: 1.0000 - val_loss: 0.0055 - val_accuracy: 1.0000\n",
            "Epoch 6/100\n",
            "160/160 [==============================] - 0s 2ms/step - loss: 0.0049 - accuracy: 1.0000 - val_loss: 0.0045 - val_accuracy: 1.0000\n",
            "Epoch 7/100\n",
            "160/160 [==============================] - 0s 2ms/step - loss: 0.0041 - accuracy: 1.0000 - val_loss: 0.0038 - val_accuracy: 1.0000\n",
            "Epoch 8/100\n",
            "160/160 [==============================] - 0s 2ms/step - loss: 0.0035 - accuracy: 1.0000 - val_loss: 0.0033 - val_accuracy: 1.0000\n",
            "Epoch 9/100\n",
            "160/160 [==============================] - 0s 2ms/step - loss: 0.0031 - accuracy: 1.0000 - val_loss: 0.0029 - val_accuracy: 1.0000\n",
            "Epoch 10/100\n",
            "160/160 [==============================] - 0s 2ms/step - loss: 0.0027 - accuracy: 1.0000 - val_loss: 0.0026 - val_accuracy: 1.0000\n",
            "Epoch 11/100\n",
            "160/160 [==============================] - 0s 2ms/step - loss: 0.0025 - accuracy: 1.0000 - val_loss: 0.0024 - val_accuracy: 1.0000\n",
            "Epoch 12/100\n",
            "160/160 [==============================] - 0s 2ms/step - loss: 0.0022 - accuracy: 1.0000 - val_loss: 0.0022 - val_accuracy: 1.0000\n",
            "Epoch 13/100\n",
            "160/160 [==============================] - 0s 2ms/step - loss: 0.0021 - accuracy: 1.0000 - val_loss: 0.0020 - val_accuracy: 1.0000\n",
            "Epoch 14/100\n",
            "160/160 [==============================] - 0s 2ms/step - loss: 0.0019 - accuracy: 1.0000 - val_loss: 0.0018 - val_accuracy: 1.0000\n",
            "Epoch 15/100\n",
            "160/160 [==============================] - 0s 2ms/step - loss: 0.0018 - accuracy: 1.0000 - val_loss: 0.0017 - val_accuracy: 1.0000\n",
            "Epoch 16/100\n",
            "160/160 [==============================] - 0s 2ms/step - loss: 0.0016 - accuracy: 1.0000 - val_loss: 0.0016 - val_accuracy: 1.0000\n",
            "Epoch 17/100\n",
            "160/160 [==============================] - 0s 2ms/step - loss: 0.0015 - accuracy: 1.0000 - val_loss: 0.0015 - val_accuracy: 1.0000\n",
            "Epoch 18/100\n",
            "160/160 [==============================] - 0s 2ms/step - loss: 0.0015 - accuracy: 1.0000 - val_loss: 0.0014 - val_accuracy: 1.0000\n",
            "Epoch 19/100\n",
            "160/160 [==============================] - 0s 2ms/step - loss: 0.0014 - accuracy: 1.0000 - val_loss: 0.0013 - val_accuracy: 1.0000\n",
            "Epoch 20/100\n",
            "160/160 [==============================] - 0s 2ms/step - loss: 0.0013 - accuracy: 1.0000 - val_loss: 0.0013 - val_accuracy: 1.0000\n",
            "Epoch 21/100\n",
            "160/160 [==============================] - 0s 2ms/step - loss: 0.0012 - accuracy: 1.0000 - val_loss: 0.0012 - val_accuracy: 1.0000\n",
            "Epoch 22/100\n",
            "160/160 [==============================] - 0s 2ms/step - loss: 0.0012 - accuracy: 1.0000 - val_loss: 0.0012 - val_accuracy: 1.0000\n",
            "Epoch 23/100\n",
            "160/160 [==============================] - 0s 2ms/step - loss: 0.0011 - accuracy: 1.0000 - val_loss: 0.0011 - val_accuracy: 1.0000\n",
            "Epoch 24/100\n",
            "160/160 [==============================] - 0s 2ms/step - loss: 0.0011 - accuracy: 1.0000 - val_loss: 0.0011 - val_accuracy: 1.0000\n",
            "Epoch 25/100\n",
            "160/160 [==============================] - 0s 2ms/step - loss: 0.0010 - accuracy: 1.0000 - val_loss: 0.0010 - val_accuracy: 1.0000\n",
            "Epoch 26/100\n",
            "160/160 [==============================] - 0s 2ms/step - loss: 9.8893e-04 - accuracy: 1.0000 - val_loss: 9.8096e-04 - val_accuracy: 1.0000\n",
            "Epoch 27/100\n",
            "160/160 [==============================] - 0s 2ms/step - loss: 9.5112e-04 - accuracy: 1.0000 - val_loss: 9.4434e-04 - val_accuracy: 1.0000\n",
            "Epoch 28/100\n",
            "160/160 [==============================] - 0s 2ms/step - loss: 9.1610e-04 - accuracy: 1.0000 - val_loss: 9.1036e-04 - val_accuracy: 1.0000\n",
            "Epoch 29/100\n",
            "160/160 [==============================] - 0s 2ms/step - loss: 8.8358e-04 - accuracy: 1.0000 - val_loss: 8.7868e-04 - val_accuracy: 1.0000\n",
            "Epoch 30/100\n",
            "160/160 [==============================] - 0s 2ms/step - loss: 8.5329e-04 - accuracy: 1.0000 - val_loss: 8.4922e-04 - val_accuracy: 1.0000\n",
            "Epoch 31/100\n",
            "160/160 [==============================] - 0s 2ms/step - loss: 8.2500e-04 - accuracy: 1.0000 - val_loss: 8.2161e-04 - val_accuracy: 1.0000\n",
            "Epoch 32/100\n",
            "160/160 [==============================] - 0s 2ms/step - loss: 7.9852e-04 - accuracy: 1.0000 - val_loss: 7.9586e-04 - val_accuracy: 1.0000\n",
            "Epoch 33/100\n",
            "160/160 [==============================] - 0s 2ms/step - loss: 7.7371e-04 - accuracy: 1.0000 - val_loss: 7.7154e-04 - val_accuracy: 1.0000\n",
            "Epoch 34/100\n",
            "160/160 [==============================] - 0s 2ms/step - loss: 7.5036e-04 - accuracy: 1.0000 - val_loss: 7.4919e-04 - val_accuracy: 1.0000\n",
            "Epoch 35/100\n",
            "160/160 [==============================] - 0s 2ms/step - loss: 7.2841e-04 - accuracy: 1.0000 - val_loss: 7.2727e-04 - val_accuracy: 1.0000\n",
            "Epoch 36/100\n",
            "160/160 [==============================] - 0s 2ms/step - loss: 7.0772e-04 - accuracy: 1.0000 - val_loss: 7.0697e-04 - val_accuracy: 1.0000\n",
            "Epoch 37/100\n",
            "160/160 [==============================] - 0s 2ms/step - loss: 6.8815e-04 - accuracy: 1.0000 - val_loss: 6.8781e-04 - val_accuracy: 1.0000\n",
            "Epoch 38/100\n",
            "160/160 [==============================] - 0s 2ms/step - loss: 6.6964e-04 - accuracy: 1.0000 - val_loss: 6.6970e-04 - val_accuracy: 1.0000\n",
            "Epoch 39/100\n",
            "160/160 [==============================] - 0s 2ms/step - loss: 6.5211e-04 - accuracy: 1.0000 - val_loss: 6.5249e-04 - val_accuracy: 1.0000\n",
            "Epoch 40/100\n",
            "160/160 [==============================] - 0s 2ms/step - loss: 6.3546e-04 - accuracy: 1.0000 - val_loss: 6.3617e-04 - val_accuracy: 1.0000\n",
            "Epoch 41/100\n",
            "160/160 [==============================] - 0s 2ms/step - loss: 6.1967e-04 - accuracy: 1.0000 - val_loss: 6.2065e-04 - val_accuracy: 1.0000\n",
            "Epoch 42/100\n",
            "160/160 [==============================] - 0s 2ms/step - loss: 6.0463e-04 - accuracy: 1.0000 - val_loss: 6.0587e-04 - val_accuracy: 1.0000\n",
            "Epoch 43/100\n",
            "160/160 [==============================] - 0s 2ms/step - loss: 5.9030e-04 - accuracy: 1.0000 - val_loss: 5.9173e-04 - val_accuracy: 1.0000\n",
            "Epoch 44/100\n",
            "160/160 [==============================] - 0s 2ms/step - loss: 5.7665e-04 - accuracy: 1.0000 - val_loss: 5.7824e-04 - val_accuracy: 1.0000\n",
            "Epoch 45/100\n",
            "160/160 [==============================] - 0s 2ms/step - loss: 5.6360e-04 - accuracy: 1.0000 - val_loss: 5.6541e-04 - val_accuracy: 1.0000\n",
            "Epoch 46/100\n",
            "160/160 [==============================] - 0s 2ms/step - loss: 5.5113e-04 - accuracy: 1.0000 - val_loss: 5.5312e-04 - val_accuracy: 1.0000\n",
            "Epoch 47/100\n",
            "160/160 [==============================] - 0s 2ms/step - loss: 5.3921e-04 - accuracy: 1.0000 - val_loss: 5.4136e-04 - val_accuracy: 1.0000\n",
            "Epoch 48/100\n",
            "160/160 [==============================] - 0s 2ms/step - loss: 5.2780e-04 - accuracy: 1.0000 - val_loss: 5.3008e-04 - val_accuracy: 1.0000\n",
            "Epoch 49/100\n",
            "160/160 [==============================] - 0s 2ms/step - loss: 5.1685e-04 - accuracy: 1.0000 - val_loss: 5.1930e-04 - val_accuracy: 1.0000\n",
            "Epoch 50/100\n",
            "160/160 [==============================] - 0s 2ms/step - loss: 5.0634e-04 - accuracy: 1.0000 - val_loss: 5.0894e-04 - val_accuracy: 1.0000\n",
            "Epoch 51/100\n",
            "160/160 [==============================] - 0s 2ms/step - loss: 4.9626e-04 - accuracy: 1.0000 - val_loss: 4.9904e-04 - val_accuracy: 1.0000\n",
            "Epoch 52/100\n",
            "160/160 [==============================] - 0s 2ms/step - loss: 4.8658e-04 - accuracy: 1.0000 - val_loss: 4.8938e-04 - val_accuracy: 1.0000\n",
            "Epoch 53/100\n",
            "160/160 [==============================] - 0s 2ms/step - loss: 4.7726e-04 - accuracy: 1.0000 - val_loss: 4.8017e-04 - val_accuracy: 1.0000\n",
            "Epoch 54/100\n",
            "160/160 [==============================] - 0s 2ms/step - loss: 4.6830e-04 - accuracy: 1.0000 - val_loss: 4.7131e-04 - val_accuracy: 1.0000\n",
            "Epoch 55/100\n",
            "160/160 [==============================] - 0s 2ms/step - loss: 4.5967e-04 - accuracy: 1.0000 - val_loss: 4.6304e-04 - val_accuracy: 1.0000\n",
            "Epoch 56/100\n",
            "160/160 [==============================] - 0s 2ms/step - loss: 4.5134e-04 - accuracy: 1.0000 - val_loss: 4.5454e-04 - val_accuracy: 1.0000\n",
            "Epoch 57/100\n",
            "160/160 [==============================] - 0s 2ms/step - loss: 4.4332e-04 - accuracy: 1.0000 - val_loss: 4.4661e-04 - val_accuracy: 1.0000\n",
            "Epoch 58/100\n",
            "160/160 [==============================] - 0s 2ms/step - loss: 4.3558e-04 - accuracy: 1.0000 - val_loss: 4.3893e-04 - val_accuracy: 1.0000\n",
            "Epoch 59/100\n",
            "160/160 [==============================] - 0s 2ms/step - loss: 4.2810e-04 - accuracy: 1.0000 - val_loss: 4.3155e-04 - val_accuracy: 1.0000\n",
            "Epoch 60/100\n",
            "160/160 [==============================] - 0s 2ms/step - loss: 4.2088e-04 - accuracy: 1.0000 - val_loss: 4.2443e-04 - val_accuracy: 1.0000\n",
            "Epoch 61/100\n",
            "160/160 [==============================] - 0s 2ms/step - loss: 4.1390e-04 - accuracy: 1.0000 - val_loss: 4.1747e-04 - val_accuracy: 1.0000\n",
            "Epoch 62/100\n",
            "160/160 [==============================] - 0s 2ms/step - loss: 4.0714e-04 - accuracy: 1.0000 - val_loss: 4.1078e-04 - val_accuracy: 1.0000\n",
            "Epoch 63/100\n",
            "160/160 [==============================] - 0s 2ms/step - loss: 4.0060e-04 - accuracy: 1.0000 - val_loss: 4.0430e-04 - val_accuracy: 1.0000\n",
            "Epoch 64/100\n",
            "160/160 [==============================] - 0s 2ms/step - loss: 3.9427e-04 - accuracy: 1.0000 - val_loss: 3.9802e-04 - val_accuracy: 1.0000\n",
            "Epoch 65/100\n",
            "160/160 [==============================] - 0s 2ms/step - loss: 3.8814e-04 - accuracy: 1.0000 - val_loss: 3.9194e-04 - val_accuracy: 1.0000\n",
            "Epoch 66/100\n",
            "160/160 [==============================] - 0s 2ms/step - loss: 3.8219e-04 - accuracy: 1.0000 - val_loss: 3.8606e-04 - val_accuracy: 1.0000\n",
            "Epoch 67/100\n",
            "160/160 [==============================] - 0s 2ms/step - loss: 3.7642e-04 - accuracy: 1.0000 - val_loss: 3.8032e-04 - val_accuracy: 1.0000\n",
            "Epoch 68/100\n",
            "160/160 [==============================] - 0s 2ms/step - loss: 3.7083e-04 - accuracy: 1.0000 - val_loss: 3.7477e-04 - val_accuracy: 1.0000\n",
            "Epoch 69/100\n",
            "160/160 [==============================] - 0s 2ms/step - loss: 3.6540e-04 - accuracy: 1.0000 - val_loss: 3.6938e-04 - val_accuracy: 1.0000\n",
            "Epoch 70/100\n",
            "160/160 [==============================] - 0s 2ms/step - loss: 3.6013e-04 - accuracy: 1.0000 - val_loss: 3.6416e-04 - val_accuracy: 1.0000\n",
            "Epoch 71/100\n",
            "160/160 [==============================] - 0s 2ms/step - loss: 3.5500e-04 - accuracy: 1.0000 - val_loss: 3.5919e-04 - val_accuracy: 1.0000\n",
            "Epoch 72/100\n",
            "160/160 [==============================] - 0s 2ms/step - loss: 3.5002e-04 - accuracy: 1.0000 - val_loss: 3.5412e-04 - val_accuracy: 1.0000\n",
            "Epoch 73/100\n",
            "160/160 [==============================] - 0s 2ms/step - loss: 3.4519e-04 - accuracy: 1.0000 - val_loss: 3.4931e-04 - val_accuracy: 1.0000\n",
            "Epoch 74/100\n",
            "160/160 [==============================] - 0s 2ms/step - loss: 3.4048e-04 - accuracy: 1.0000 - val_loss: 3.4465e-04 - val_accuracy: 1.0000\n",
            "Epoch 75/100\n",
            "160/160 [==============================] - 0s 2ms/step - loss: 3.3590e-04 - accuracy: 1.0000 - val_loss: 3.4011e-04 - val_accuracy: 1.0000\n",
            "Epoch 76/100\n",
            "160/160 [==============================] - 0s 2ms/step - loss: 3.3144e-04 - accuracy: 1.0000 - val_loss: 3.3567e-04 - val_accuracy: 1.0000\n",
            "Epoch 77/100\n",
            "160/160 [==============================] - 0s 2ms/step - loss: 3.2709e-04 - accuracy: 1.0000 - val_loss: 3.3136e-04 - val_accuracy: 1.0000\n",
            "Epoch 78/100\n",
            "160/160 [==============================] - 0s 2ms/step - loss: 3.2286e-04 - accuracy: 1.0000 - val_loss: 3.2716e-04 - val_accuracy: 1.0000\n",
            "Epoch 79/100\n",
            "160/160 [==============================] - 0s 2ms/step - loss: 3.1874e-04 - accuracy: 1.0000 - val_loss: 3.2306e-04 - val_accuracy: 1.0000\n",
            "Epoch 80/100\n",
            "160/160 [==============================] - 0s 2ms/step - loss: 3.1473e-04 - accuracy: 1.0000 - val_loss: 3.1908e-04 - val_accuracy: 1.0000\n",
            "Epoch 81/100\n",
            "160/160 [==============================] - 0s 2ms/step - loss: 3.1081e-04 - accuracy: 1.0000 - val_loss: 3.1518e-04 - val_accuracy: 1.0000\n",
            "Epoch 82/100\n",
            "160/160 [==============================] - 0s 2ms/step - loss: 3.0699e-04 - accuracy: 1.0000 - val_loss: 3.1139e-04 - val_accuracy: 1.0000\n",
            "Epoch 83/100\n",
            "160/160 [==============================] - 0s 2ms/step - loss: 3.0326e-04 - accuracy: 1.0000 - val_loss: 3.0768e-04 - val_accuracy: 1.0000\n",
            "Epoch 84/100\n",
            "160/160 [==============================] - 0s 2ms/step - loss: 2.9962e-04 - accuracy: 1.0000 - val_loss: 3.0407e-04 - val_accuracy: 1.0000\n",
            "Epoch 85/100\n",
            "160/160 [==============================] - 0s 2ms/step - loss: 2.9607e-04 - accuracy: 1.0000 - val_loss: 3.0055e-04 - val_accuracy: 1.0000\n",
            "Epoch 86/100\n",
            "160/160 [==============================] - 0s 2ms/step - loss: 2.9260e-04 - accuracy: 1.0000 - val_loss: 2.9709e-04 - val_accuracy: 1.0000\n",
            "Epoch 87/100\n",
            "160/160 [==============================] - 0s 2ms/step - loss: 2.8921e-04 - accuracy: 1.0000 - val_loss: 2.9373e-04 - val_accuracy: 1.0000\n",
            "Epoch 88/100\n",
            "160/160 [==============================] - 0s 2ms/step - loss: 2.8591e-04 - accuracy: 1.0000 - val_loss: 2.9043e-04 - val_accuracy: 1.0000\n",
            "Epoch 89/100\n",
            "160/160 [==============================] - 0s 2ms/step - loss: 2.8267e-04 - accuracy: 1.0000 - val_loss: 2.8722e-04 - val_accuracy: 1.0000\n",
            "Epoch 90/100\n",
            "160/160 [==============================] - 0s 2ms/step - loss: 2.7951e-04 - accuracy: 1.0000 - val_loss: 2.8408e-04 - val_accuracy: 1.0000\n",
            "Epoch 91/100\n",
            "160/160 [==============================] - 0s 2ms/step - loss: 2.7641e-04 - accuracy: 1.0000 - val_loss: 2.8100e-04 - val_accuracy: 1.0000\n",
            "Epoch 92/100\n",
            "160/160 [==============================] - 0s 2ms/step - loss: 2.7339e-04 - accuracy: 1.0000 - val_loss: 2.7798e-04 - val_accuracy: 1.0000\n",
            "Epoch 93/100\n",
            "160/160 [==============================] - 0s 2ms/step - loss: 2.7043e-04 - accuracy: 1.0000 - val_loss: 2.7504e-04 - val_accuracy: 1.0000\n",
            "Epoch 94/100\n",
            "160/160 [==============================] - 0s 2ms/step - loss: 2.6753e-04 - accuracy: 1.0000 - val_loss: 2.7217e-04 - val_accuracy: 1.0000\n",
            "Epoch 95/100\n",
            "160/160 [==============================] - 0s 2ms/step - loss: 2.6470e-04 - accuracy: 1.0000 - val_loss: 2.6934e-04 - val_accuracy: 1.0000\n",
            "Epoch 96/100\n",
            "160/160 [==============================] - 0s 2ms/step - loss: 2.6193e-04 - accuracy: 1.0000 - val_loss: 2.6659e-04 - val_accuracy: 1.0000\n",
            "Epoch 97/100\n",
            "160/160 [==============================] - 0s 2ms/step - loss: 2.5921e-04 - accuracy: 1.0000 - val_loss: 2.6388e-04 - val_accuracy: 1.0000\n",
            "Epoch 98/100\n",
            "160/160 [==============================] - 0s 2ms/step - loss: 2.5655e-04 - accuracy: 1.0000 - val_loss: 2.6123e-04 - val_accuracy: 1.0000\n",
            "Epoch 99/100\n",
            "160/160 [==============================] - 0s 2ms/step - loss: 2.5394e-04 - accuracy: 1.0000 - val_loss: 2.5864e-04 - val_accuracy: 1.0000\n",
            "Epoch 100/100\n",
            "160/160 [==============================] - 0s 2ms/step - loss: 2.5139e-04 - accuracy: 1.0000 - val_loss: 2.5610e-04 - val_accuracy: 1.0000\n",
            "time cost : 33.23777 sec\n"
          ],
          "name": "stdout"
        }
      ]
    },
    {
      "cell_type": "code",
      "metadata": {
        "id": "uaFUQBx2nZ-e",
        "colab_type": "code",
        "colab": {
          "base_uri": "https://localhost:8080/",
          "height": 502
        },
        "outputId": "d164abbe-660f-4f28-f172-13409341e012"
      },
      "source": [
        "## Visulize the Result\n",
        "plt.figure(figsize=(12, 8))\n",
        "plt.xticks(fontsize=12)\n",
        "plt.yticks(fontsize=12)\n",
        "acc = history.history.get('accuracy')\n",
        "val_acc = history.history.get('val_accuracy')\n",
        "plt.plot(range(len(acc)), acc, label='Training Accuracy')\n",
        "plt.plot(range(len(val_acc)), val_acc, label='Validation Accuracy')\n",
        "plt.legend(loc='lower right',fontsize=12)\n",
        "plt.title('Accuracy',fontsize=12)\n",
        "\n",
        "plt.show()"
      ],
      "execution_count": null,
      "outputs": [
        {
          "output_type": "display_data",
          "data": {
            "image/png": "[encoded data removed]",
            "text/plain": [
              "<Figure size 864x576 with 1 Axes>"
            ]
          },
          "metadata": {
            "tags": [],
            "needs_background": "light"
          }
        }
      ]
    },
    {
      "cell_type": "code",
      "metadata": {
        "id": "0XLINHnAm9xd",
        "colab_type": "code",
        "colab": {}
      },
      "source": [
        "# save the result to csv file\n",
        "acc_df = pd.DataFrame(acc)\n",
        "val_acc_df = pd.DataFrame(val_acc)\n",
        "acc_df.to_csv('2_train_acc_lr0.1_mo0.8_SGD_100.csv', index = False) \n",
        "val_acc_df.to_csv('2_validate_acc_lr0.1_mo0.8_SGD_100.csv', index = False)"
      ],
      "execution_count": null,
      "outputs": []
    },
    {
      "cell_type": "code",
      "metadata": {
        "id": "vsMpC3u4vmUs",
        "colab_type": "code",
        "colab": {
          "base_uri": "https://localhost:8080/",
          "height": 70
        },
        "outputId": "0afc5b5c-399d-4686-bfe1-09b022d9f658"
      },
      "source": [
        "# print out the accuracy\n",
        "score_train = nn_model.evaluate(X_train, y_train, verbose=0)\n",
        "score_vali = nn_model.evaluate(X_vali, y_vali, verbose=0)\n",
        "score_test = nn_model.evaluate(X_test, y_test, verbose=0)\n",
        "print(\"Accuracy Score on Training data: {}\".format(score_train[1]))\n",
        "print(\"Accuracy Score on Validating data: {}\".format(score_vali[1]))\n",
        "print(\"Accuracy Score on Testing data: {}\".format(score_test[1]))"
      ],
      "execution_count": null,
      "outputs": [
        {
          "output_type": "stream",
          "text": [
            "Accuracy Score on Training data: 1.0\n",
            "Accuracy Score on Validating data: 1.0\n",
            "Accuracy Score on Testing data: 1.0\n"
          ],
          "name": "stdout"
        }
      ]
    },
    {
      "cell_type": "code",
      "metadata": {
        "id": "jiAUQvtqd4X0",
        "colab_type": "code",
        "colab": {}
      },
      "source": [
        "# save the result to csv file\n",
        "y_pred_vali_nn = nn_model.predict_classes(X_vali)\n",
        "y_pred_train_nn = nn_model.predict_classes(X_train)\n",
        "y_pred_test_nn = nn_model.predict_classes(X_test)\n",
        "y1 = pd.DataFrame(y_train, columns=['y_true(train)'])\n",
        "y2 = pd.DataFrame(y_pred_train_nn, columns=['y_predict(train)'])\n",
        "y3 = pd.DataFrame(y_vali, columns=['y_true(validate)'])\n",
        "y4 = pd.DataFrame(y_pred_vali_nn, columns=['y_predict(validate)'])\n",
        "y5 = pd.DataFrame(y_test, columns=['y_true(test)'])\n",
        "y6 = pd.DataFrame(y_pred_test_nn, columns=['y_predict(test)'])\n",
        "Ytrain = pd.concat( [y1,y2], axis=1 )\n",
        "Yvali = pd.concat( [y3,y4], axis=1 )\n",
        "Ytest = pd.concat( [y5,y6], axis=1 )\n",
        "Ytrain.to_csv('2_train_result_lr0.1_mo0.8_SGD_100.csv', index = False) \n",
        "Yvali.to_csv('2_vali_result_lr0.1_mo0.8_SGD_100.csv', index = False)\n",
        "Ytest.to_csv('2_test_result_lr0.1_mo0.8_SGD_100.csv', index = False)"
      ],
      "execution_count": null,
      "outputs": []
    }
  ]
}